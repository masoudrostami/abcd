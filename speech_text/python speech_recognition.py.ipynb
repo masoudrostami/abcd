{
 "cells": [
  {
   "cell_type": "code",
   "execution_count": 1,
   "id": "85380c9a",
   "metadata": {},
   "outputs": [
    {
     "name": "stdout",
     "output_type": "stream",
     "text": [
      "Collecting speech-recognition-python\n",
      "  Downloading speech_recognition_python-3.9.9.tar.gz (2.1 MB)\n",
      "\u001b[K     |████████████████████████████████| 2.1 MB 2.6 MB/s eta 0:00:01     |████████▏                       | 532 kB 2.6 MB/s eta 0:00:01\n",
      "\u001b[?25hRequirement already satisfied: numpy in /Users/leelamadhav/opt/anaconda3/lib/python3.9/site-packages (from speech-recognition-python) (1.24.2)\n",
      "Requirement already satisfied: nltk in /Users/leelamadhav/opt/anaconda3/lib/python3.9/site-packages (from speech-recognition-python) (3.7)\n",
      "Collecting google-trans-new\n",
      "  Downloading google_trans_new-1.1.9-py3-none-any.whl (9.2 kB)\n",
      "Collecting pocketsphinx\n",
      "  Downloading pocketsphinx-5.0.1.tar.gz (33.9 MB)\n",
      "\u001b[K     |████████████████████████████████| 33.9 MB 3.3 MB/s eta 0:00:011     |████████████████████            | 21.1 MB 10.0 MB/s eta 0:00:02     |████████████████████████████▏   | 29.8 MB 3.3 MB/s eta 0:00:02\n",
      "\u001b[?25h  Installing build dependencies ... \u001b[?25ldone\n",
      "\u001b[?25h  Getting requirements to build wheel ... \u001b[?25ldone\n",
      "\u001b[?25h    Preparing wheel metadata ... \u001b[?25ldone\n",
      "\u001b[?25hRequirement already satisfied: click in /Users/leelamadhav/opt/anaconda3/lib/python3.9/site-packages (from nltk->speech-recognition-python) (8.0.4)\n",
      "Requirement already satisfied: regex>=2021.8.3 in /Users/leelamadhav/opt/anaconda3/lib/python3.9/site-packages (from nltk->speech-recognition-python) (2022.3.15)\n",
      "Requirement already satisfied: tqdm in /Users/leelamadhav/opt/anaconda3/lib/python3.9/site-packages (from nltk->speech-recognition-python) (4.64.0)\n",
      "Requirement already satisfied: joblib in /Users/leelamadhav/opt/anaconda3/lib/python3.9/site-packages (from nltk->speech-recognition-python) (1.1.0)\n",
      "Collecting sounddevice\n",
      "  Downloading sounddevice-0.4.6-py3-none-macosx_10_6_x86_64.macosx_10_6_universal2.whl (107 kB)\n",
      "\u001b[K     |████████████████████████████████| 107 kB 4.2 MB/s eta 0:00:01\n",
      "\u001b[?25hRequirement already satisfied: CFFI>=1.0 in /Users/leelamadhav/opt/anaconda3/lib/python3.9/site-packages (from sounddevice->pocketsphinx->speech-recognition-python) (1.15.0)\n",
      "Requirement already satisfied: pycparser in /Users/leelamadhav/opt/anaconda3/lib/python3.9/site-packages (from CFFI>=1.0->sounddevice->pocketsphinx->speech-recognition-python) (2.21)\n",
      "Building wheels for collected packages: speech-recognition-python, pocketsphinx\n",
      "  Building wheel for speech-recognition-python (setup.py) ... \u001b[?25ldone\n",
      "\u001b[?25h  Created wheel for speech-recognition-python: filename=speech_recognition_python-3.9.9-py3-none-any.whl size=22064 sha256=0448e088336345ee438316fa71bfce80cbeddffa3f387c83eb2552ad8ffeec8f\n",
      "  Stored in directory: /Users/leelamadhav/Library/Caches/pip/wheels/24/b7/8e/d6d1c3f6c217e60ed049b5dbeb6bf690c2b12b31c4e18d573a\n",
      "  Building wheel for pocketsphinx (PEP 517) ... \u001b[?25ldone\n",
      "\u001b[?25h  Created wheel for pocketsphinx: filename=pocketsphinx-5.0.1-cp39-cp39-macosx_10_16_x86_64.whl size=29130391 sha256=3c660dce88d31c2cf48718d42ffd18c335af9746d72bd5549b927811c72c3a5c\n",
      "  Stored in directory: /Users/leelamadhav/Library/Caches/pip/wheels/07/49/b6/e4f8ff2c834abe08be3f11c4564b1ed1917a1a3be936a1d911\n",
      "Successfully built speech-recognition-python pocketsphinx\n",
      "Installing collected packages: sounddevice, pocketsphinx, google-trans-new, speech-recognition-python\n",
      "Successfully installed google-trans-new-1.1.9 pocketsphinx-5.0.1 sounddevice-0.4.6 speech-recognition-python-3.9.9\n",
      "Note: you may need to restart the kernel to use updated packages.\n"
     ]
    }
   ],
   "source": [
    "pip install speech-recognition-python"
   ]
  },
  {
   "cell_type": "code",
   "execution_count": 4,
   "id": "7e9672bd",
   "metadata": {},
   "outputs": [
    {
     "name": "stdout",
     "output_type": "stream",
     "text": [
      "Requirement already satisfied: SpeechRecognition in /Users/leelamadhav/opt/anaconda3/lib/python3.9/site-packages (3.10.0)\n",
      "Requirement already satisfied: requests>=2.26.0 in /Users/leelamadhav/opt/anaconda3/lib/python3.9/site-packages (from SpeechRecognition) (2.27.1)\n",
      "Requirement already satisfied: urllib3<1.27,>=1.21.1 in /Users/leelamadhav/opt/anaconda3/lib/python3.9/site-packages (from requests>=2.26.0->SpeechRecognition) (1.26.9)\n",
      "Requirement already satisfied: certifi>=2017.4.17 in /Users/leelamadhav/opt/anaconda3/lib/python3.9/site-packages (from requests>=2.26.0->SpeechRecognition) (2023.5.7)\n",
      "Requirement already satisfied: idna<4,>=2.5 in /Users/leelamadhav/opt/anaconda3/lib/python3.9/site-packages (from requests>=2.26.0->SpeechRecognition) (3.3)\n",
      "Requirement already satisfied: charset-normalizer~=2.0.0 in /Users/leelamadhav/opt/anaconda3/lib/python3.9/site-packages (from requests>=2.26.0->SpeechRecognition) (2.0.4)\n",
      "Note: you may need to restart the kernel to use updated packages.\n"
     ]
    }
   ],
   "source": [
    "pip install SpeechRecognition"
   ]
  },
  {
   "cell_type": "code",
   "execution_count": 5,
   "id": "756aabd6",
   "metadata": {},
   "outputs": [
    {
     "name": "stdout",
     "output_type": "stream",
     "text": [
      "Requirement already satisfied: PyAudio in /Users/leelamadhav/opt/anaconda3/lib/python3.9/site-packages (0.2.13)\n",
      "Note: you may need to restart the kernel to use updated packages.\n"
     ]
    }
   ],
   "source": [
    "pip install PyAudio"
   ]
  },
  {
   "cell_type": "code",
   "execution_count": 3,
   "id": "7b303d0a",
   "metadata": {},
   "outputs": [
    {
     "name": "stdout",
     "output_type": "stream",
     "text": [
      "Say something!\n",
      "You said: who is the president of USA alpha alpha\n",
      "You said: who is the president of USA alpha alpha\n",
      "You said: who is the president of USA alpha alpha\n",
      "You said: who is the president of USA alpha alpha\n",
      "You said: who is the president of USA alpha alpha\n",
      "You said: who is the president of USA alpha alpha\n",
      "You said: who is the president of USA alpha alpha\n",
      "You said: who is the president of USA alpha alpha\n",
      "You said: who is the president of USA alpha alpha\n",
      "You said: who is the president of USA alpha alpha\n",
      "You said: who is the president of USA alpha alpha\n",
      "You said: who is the president of USA alpha alpha\n",
      "You said: who is the president of USA alpha alpha\n",
      "You said: who is the president of USA alpha alpha\n",
      "You said: who is the president of USA alpha alpha\n",
      "You said: who is the president of USA alpha alpha\n",
      "You said: who is the president of USA alpha alpha\n",
      "You said: who is the president of USA alpha alpha\n",
      "You said: who is the president of USA alpha alpha\n",
      "You said: who is the president of USA alpha alpha\n",
      "You said: who is the president of USA alpha alpha\n",
      "You said: who is the president of USA alpha alpha\n",
      "You said: who is the president of USA alpha alpha\n",
      "You said: who is the president of USA alpha alpha\n",
      "You said: who is the president of USA alpha alpha\n",
      "You said: who is the president of USA alpha alpha\n",
      "You said: who is the president of USA alpha alpha\n",
      "You said: who is the president of USA alpha alpha\n",
      "You said: who is the president of USA alpha alpha\n"
     ]
    },
    {
     "ename": "KeyboardInterrupt",
     "evalue": "",
     "output_type": "error",
     "traceback": [
      "\u001b[0;31m---------------------------------------------------------------------------\u001b[0m",
      "\u001b[0;31mKeyboardInterrupt\u001b[0m                         Traceback (most recent call last)",
      "Input \u001b[0;32mIn [3]\u001b[0m, in \u001b[0;36m<cell line: 13>\u001b[0;34m()\u001b[0m\n\u001b[1;32m     12\u001b[0m \u001b[38;5;28;01mwhile\u001b[39;00m \u001b[38;5;28;01mTrue\u001b[39;00m:\n\u001b[1;32m     13\u001b[0m   \u001b[38;5;28;01mtry\u001b[39;00m:\n\u001b[1;32m     14\u001b[0m     \u001b[38;5;66;03m# Get the recognized text\u001b[39;00m\n\u001b[0;32m---> 15\u001b[0m     text \u001b[38;5;241m=\u001b[39m \u001b[43mrecognizer\u001b[49m\u001b[38;5;241;43m.\u001b[39;49m\u001b[43mrecognize_google\u001b[49m\u001b[43m(\u001b[49m\u001b[43maudio\u001b[49m\u001b[43m)\u001b[49m\n\u001b[1;32m     16\u001b[0m     \u001b[38;5;28mprint\u001b[39m(\u001b[38;5;124m\"\u001b[39m\u001b[38;5;124mYou said: \u001b[39m\u001b[38;5;124m\"\u001b[39m \u001b[38;5;241m+\u001b[39m text)\n\u001b[1;32m     18\u001b[0m     \u001b[38;5;28;01mif\u001b[39;00m text \u001b[38;5;241m==\u001b[39m \u001b[38;5;124m\"\u001b[39m\u001b[38;5;124malpha\u001b[39m\u001b[38;5;124m\"\u001b[39m:\n\u001b[1;32m     19\u001b[0m       \u001b[38;5;66;03m# Exit the loop\u001b[39;00m\n",
      "File \u001b[0;32m~/opt/anaconda3/lib/python3.9/site-packages/speech_recognition/__init__.py:713\u001b[0m, in \u001b[0;36mRecognizer.recognize_google\u001b[0;34m(self, audio_data, key, language, pfilter, show_all, with_confidence)\u001b[0m\n\u001b[1;32m    711\u001b[0m \u001b[38;5;28;01mexcept\u001b[39;00m URLError \u001b[38;5;28;01mas\u001b[39;00m e:\n\u001b[1;32m    712\u001b[0m     \u001b[38;5;28;01mraise\u001b[39;00m RequestError(\u001b[38;5;124m\"\u001b[39m\u001b[38;5;124mrecognition connection failed: \u001b[39m\u001b[38;5;132;01m{}\u001b[39;00m\u001b[38;5;124m\"\u001b[39m\u001b[38;5;241m.\u001b[39mformat(e\u001b[38;5;241m.\u001b[39mreason))\n\u001b[0;32m--> 713\u001b[0m response_text \u001b[38;5;241m=\u001b[39m \u001b[43mresponse\u001b[49m\u001b[38;5;241;43m.\u001b[39;49m\u001b[43mread\u001b[49m\u001b[43m(\u001b[49m\u001b[43m)\u001b[49m\u001b[38;5;241m.\u001b[39mdecode(\u001b[38;5;124m\"\u001b[39m\u001b[38;5;124mutf-8\u001b[39m\u001b[38;5;124m\"\u001b[39m)\n\u001b[1;32m    715\u001b[0m \u001b[38;5;66;03m# ignore any blank blocks\u001b[39;00m\n\u001b[1;32m    716\u001b[0m actual_result \u001b[38;5;241m=\u001b[39m []\n",
      "File \u001b[0;32m~/opt/anaconda3/lib/python3.9/http/client.py:470\u001b[0m, in \u001b[0;36mHTTPResponse.read\u001b[0;34m(self, amt)\u001b[0m\n\u001b[1;32m    465\u001b[0m \u001b[38;5;28;01melse\u001b[39;00m:\n\u001b[1;32m    466\u001b[0m     \u001b[38;5;66;03m# Amount is not given (unbounded read) so we must check self.length\u001b[39;00m\n\u001b[1;32m    467\u001b[0m     \u001b[38;5;66;03m# and self.chunked\u001b[39;00m\n\u001b[1;32m    469\u001b[0m     \u001b[38;5;28;01mif\u001b[39;00m \u001b[38;5;28mself\u001b[39m\u001b[38;5;241m.\u001b[39mchunked:\n\u001b[0;32m--> 470\u001b[0m         \u001b[38;5;28;01mreturn\u001b[39;00m \u001b[38;5;28;43mself\u001b[39;49m\u001b[38;5;241;43m.\u001b[39;49m\u001b[43m_readall_chunked\u001b[49m\u001b[43m(\u001b[49m\u001b[43m)\u001b[49m\n\u001b[1;32m    472\u001b[0m     \u001b[38;5;28;01mif\u001b[39;00m \u001b[38;5;28mself\u001b[39m\u001b[38;5;241m.\u001b[39mlength \u001b[38;5;129;01mis\u001b[39;00m \u001b[38;5;28;01mNone\u001b[39;00m:\n\u001b[1;32m    473\u001b[0m         s \u001b[38;5;241m=\u001b[39m \u001b[38;5;28mself\u001b[39m\u001b[38;5;241m.\u001b[39mfp\u001b[38;5;241m.\u001b[39mread()\n",
      "File \u001b[0;32m~/opt/anaconda3/lib/python3.9/http/client.py:577\u001b[0m, in \u001b[0;36mHTTPResponse._readall_chunked\u001b[0;34m(self)\u001b[0m\n\u001b[1;32m    575\u001b[0m \u001b[38;5;28;01mtry\u001b[39;00m:\n\u001b[1;32m    576\u001b[0m     \u001b[38;5;28;01mwhile\u001b[39;00m \u001b[38;5;28;01mTrue\u001b[39;00m:\n\u001b[0;32m--> 577\u001b[0m         chunk_left \u001b[38;5;241m=\u001b[39m \u001b[38;5;28;43mself\u001b[39;49m\u001b[38;5;241;43m.\u001b[39;49m\u001b[43m_get_chunk_left\u001b[49m\u001b[43m(\u001b[49m\u001b[43m)\u001b[49m\n\u001b[1;32m    578\u001b[0m         \u001b[38;5;28;01mif\u001b[39;00m chunk_left \u001b[38;5;129;01mis\u001b[39;00m \u001b[38;5;28;01mNone\u001b[39;00m:\n\u001b[1;32m    579\u001b[0m             \u001b[38;5;28;01mbreak\u001b[39;00m\n",
      "File \u001b[0;32m~/opt/anaconda3/lib/python3.9/http/client.py:560\u001b[0m, in \u001b[0;36mHTTPResponse._get_chunk_left\u001b[0;34m(self)\u001b[0m\n\u001b[1;32m    558\u001b[0m     \u001b[38;5;28mself\u001b[39m\u001b[38;5;241m.\u001b[39m_safe_read(\u001b[38;5;241m2\u001b[39m)  \u001b[38;5;66;03m# toss the CRLF at the end of the chunk\u001b[39;00m\n\u001b[1;32m    559\u001b[0m \u001b[38;5;28;01mtry\u001b[39;00m:\n\u001b[0;32m--> 560\u001b[0m     chunk_left \u001b[38;5;241m=\u001b[39m \u001b[38;5;28;43mself\u001b[39;49m\u001b[38;5;241;43m.\u001b[39;49m\u001b[43m_read_next_chunk_size\u001b[49m\u001b[43m(\u001b[49m\u001b[43m)\u001b[49m\n\u001b[1;32m    561\u001b[0m \u001b[38;5;28;01mexcept\u001b[39;00m \u001b[38;5;167;01mValueError\u001b[39;00m:\n\u001b[1;32m    562\u001b[0m     \u001b[38;5;28;01mraise\u001b[39;00m IncompleteRead(\u001b[38;5;124mb\u001b[39m\u001b[38;5;124m'\u001b[39m\u001b[38;5;124m'\u001b[39m)\n",
      "File \u001b[0;32m~/opt/anaconda3/lib/python3.9/http/client.py:520\u001b[0m, in \u001b[0;36mHTTPResponse._read_next_chunk_size\u001b[0;34m(self)\u001b[0m\n\u001b[1;32m    518\u001b[0m \u001b[38;5;28;01mdef\u001b[39;00m \u001b[38;5;21m_read_next_chunk_size\u001b[39m(\u001b[38;5;28mself\u001b[39m):\n\u001b[1;32m    519\u001b[0m     \u001b[38;5;66;03m# Read the next chunk size from the file\u001b[39;00m\n\u001b[0;32m--> 520\u001b[0m     line \u001b[38;5;241m=\u001b[39m \u001b[38;5;28;43mself\u001b[39;49m\u001b[38;5;241;43m.\u001b[39;49m\u001b[43mfp\u001b[49m\u001b[38;5;241;43m.\u001b[39;49m\u001b[43mreadline\u001b[49m\u001b[43m(\u001b[49m\u001b[43m_MAXLINE\u001b[49m\u001b[43m \u001b[49m\u001b[38;5;241;43m+\u001b[39;49m\u001b[43m \u001b[49m\u001b[38;5;241;43m1\u001b[39;49m\u001b[43m)\u001b[49m\n\u001b[1;32m    521\u001b[0m     \u001b[38;5;28;01mif\u001b[39;00m \u001b[38;5;28mlen\u001b[39m(line) \u001b[38;5;241m>\u001b[39m _MAXLINE:\n\u001b[1;32m    522\u001b[0m         \u001b[38;5;28;01mraise\u001b[39;00m LineTooLong(\u001b[38;5;124m\"\u001b[39m\u001b[38;5;124mchunk size\u001b[39m\u001b[38;5;124m\"\u001b[39m)\n",
      "File \u001b[0;32m~/opt/anaconda3/lib/python3.9/socket.py:704\u001b[0m, in \u001b[0;36mSocketIO.readinto\u001b[0;34m(self, b)\u001b[0m\n\u001b[1;32m    702\u001b[0m \u001b[38;5;28;01mwhile\u001b[39;00m \u001b[38;5;28;01mTrue\u001b[39;00m:\n\u001b[1;32m    703\u001b[0m     \u001b[38;5;28;01mtry\u001b[39;00m:\n\u001b[0;32m--> 704\u001b[0m         \u001b[38;5;28;01mreturn\u001b[39;00m \u001b[38;5;28;43mself\u001b[39;49m\u001b[38;5;241;43m.\u001b[39;49m\u001b[43m_sock\u001b[49m\u001b[38;5;241;43m.\u001b[39;49m\u001b[43mrecv_into\u001b[49m\u001b[43m(\u001b[49m\u001b[43mb\u001b[49m\u001b[43m)\u001b[49m\n\u001b[1;32m    705\u001b[0m     \u001b[38;5;28;01mexcept\u001b[39;00m timeout:\n\u001b[1;32m    706\u001b[0m         \u001b[38;5;28mself\u001b[39m\u001b[38;5;241m.\u001b[39m_timeout_occurred \u001b[38;5;241m=\u001b[39m \u001b[38;5;28;01mTrue\u001b[39;00m\n",
      "\u001b[0;31mKeyboardInterrupt\u001b[0m: "
     ]
    }
   ],
   "source": [
    "import speech_recognition as sr\n",
    "\n",
    "# Create a speech recognition object\n",
    "recognizer = sr.Recognizer()\n",
    "\n",
    "# Start listening for speech\n",
    "with sr.Microphone() as source:\n",
    "  print(\"Say something!\")\n",
    "  audio = recognizer.listen(source)\n",
    "\n",
    "# Try to recognize the speech\n",
    "while True:\n",
    "  try:\n",
    "    # Get the recognized text\n",
    "    text = recognizer.recognize_google(audio)\n",
    "    print(\"You said: \" + text)\n",
    "\n",
    "    if text == \"alpha\":\n",
    "      # Exit the loop\n",
    "      break\n",
    "\n",
    "  except sr.UnknownValueError:\n",
    "    print(\"I didn't understand what you said.\")\n",
    "  except sr.RequestError:\n",
    "    print(\"There was an error with the speech recognition service.\")"
   ]
  },
  {
   "cell_type": "code",
   "execution_count": 1,
   "id": "82945188",
   "metadata": {},
   "outputs": [
    {
     "name": "stdout",
     "output_type": "stream",
     "text": [
      "Say something!\n",
      "You said: who is the President of India stop\n",
      "You said: who is the President of India stop\n",
      "You said: who is the President of India stop\n",
      "You said: who is the President of India stop\n",
      "You said: who is the President of India stop\n",
      "You said: who is the President of India stop\n",
      "You said: who is the President of India stop\n",
      "You said: who is the President of India stop\n",
      "You said: who is the President of India stop\n",
      "You said: who is the President of India stop\n",
      "You said: who is the President of India stop\n",
      "You said: who is the President of India stop\n",
      "You said: who is the President of India stop\n",
      "You said: who is the President of India stop\n",
      "You said: who is the President of India stop\n",
      "You said: who is the President of India stop\n",
      "You said: who is the President of India stop\n",
      "You said: who is the President of India stop\n",
      "You said: who is the President of India stop\n",
      "You said: who is the President of India stop\n",
      "You said: who is the President of India stop\n",
      "You said: who is the President of India stop\n",
      "You said: who is the President of India stop\n",
      "You said: who is the President of India stop\n",
      "You said: who is the President of India stop\n",
      "You said: who is the President of India stop\n",
      "You said: who is the President of India stop\n",
      "You said: who is the President of India stop\n",
      "You said: who is the President of India stop\n",
      "You said: who is the President of India stop\n",
      "You said: who is the President of India stop\n",
      "You said: who is the President of India stop\n",
      "You said: who is the President of India stop\n"
     ]
    },
    {
     "ename": "KeyboardInterrupt",
     "evalue": "",
     "output_type": "error",
     "traceback": [
      "\u001b[0;31m---------------------------------------------------------------------------\u001b[0m",
      "\u001b[0;31mKeyboardInterrupt\u001b[0m                         Traceback (most recent call last)",
      "Input \u001b[0;32mIn [1]\u001b[0m, in \u001b[0;36m<cell line: 13>\u001b[0;34m()\u001b[0m\n\u001b[1;32m     12\u001b[0m \u001b[38;5;28;01mwhile\u001b[39;00m \u001b[38;5;28;01mTrue\u001b[39;00m:\n\u001b[1;32m     13\u001b[0m   \u001b[38;5;28;01mtry\u001b[39;00m:\n\u001b[1;32m     14\u001b[0m     \u001b[38;5;66;03m# Get the recognized text\u001b[39;00m\n\u001b[0;32m---> 15\u001b[0m     text \u001b[38;5;241m=\u001b[39m \u001b[43mrecognizer\u001b[49m\u001b[38;5;241;43m.\u001b[39;49m\u001b[43mrecognize_google\u001b[49m\u001b[43m(\u001b[49m\u001b[43maudio\u001b[49m\u001b[43m)\u001b[49m\n\u001b[1;32m     16\u001b[0m     \u001b[38;5;28mprint\u001b[39m(\u001b[38;5;124m\"\u001b[39m\u001b[38;5;124mYou said: \u001b[39m\u001b[38;5;124m\"\u001b[39m \u001b[38;5;241m+\u001b[39m text)\n\u001b[1;32m     18\u001b[0m     \u001b[38;5;28;01mif\u001b[39;00m text \u001b[38;5;241m==\u001b[39m \u001b[38;5;124m\"\u001b[39m\u001b[38;5;124mstop\u001b[39m\u001b[38;5;124m\"\u001b[39m:\n\u001b[1;32m     19\u001b[0m       \u001b[38;5;66;03m# Stop the speech recognition object from listening\u001b[39;00m\n",
      "File \u001b[0;32m~/opt/anaconda3/lib/python3.9/site-packages/speech_recognition/__init__.py:713\u001b[0m, in \u001b[0;36mRecognizer.recognize_google\u001b[0;34m(self, audio_data, key, language, pfilter, show_all, with_confidence)\u001b[0m\n\u001b[1;32m    711\u001b[0m \u001b[38;5;28;01mexcept\u001b[39;00m URLError \u001b[38;5;28;01mas\u001b[39;00m e:\n\u001b[1;32m    712\u001b[0m     \u001b[38;5;28;01mraise\u001b[39;00m RequestError(\u001b[38;5;124m\"\u001b[39m\u001b[38;5;124mrecognition connection failed: \u001b[39m\u001b[38;5;132;01m{}\u001b[39;00m\u001b[38;5;124m\"\u001b[39m\u001b[38;5;241m.\u001b[39mformat(e\u001b[38;5;241m.\u001b[39mreason))\n\u001b[0;32m--> 713\u001b[0m response_text \u001b[38;5;241m=\u001b[39m \u001b[43mresponse\u001b[49m\u001b[38;5;241;43m.\u001b[39;49m\u001b[43mread\u001b[49m\u001b[43m(\u001b[49m\u001b[43m)\u001b[49m\u001b[38;5;241m.\u001b[39mdecode(\u001b[38;5;124m\"\u001b[39m\u001b[38;5;124mutf-8\u001b[39m\u001b[38;5;124m\"\u001b[39m)\n\u001b[1;32m    715\u001b[0m \u001b[38;5;66;03m# ignore any blank blocks\u001b[39;00m\n\u001b[1;32m    716\u001b[0m actual_result \u001b[38;5;241m=\u001b[39m []\n",
      "File \u001b[0;32m~/opt/anaconda3/lib/python3.9/http/client.py:470\u001b[0m, in \u001b[0;36mHTTPResponse.read\u001b[0;34m(self, amt)\u001b[0m\n\u001b[1;32m    465\u001b[0m \u001b[38;5;28;01melse\u001b[39;00m:\n\u001b[1;32m    466\u001b[0m     \u001b[38;5;66;03m# Amount is not given (unbounded read) so we must check self.length\u001b[39;00m\n\u001b[1;32m    467\u001b[0m     \u001b[38;5;66;03m# and self.chunked\u001b[39;00m\n\u001b[1;32m    469\u001b[0m     \u001b[38;5;28;01mif\u001b[39;00m \u001b[38;5;28mself\u001b[39m\u001b[38;5;241m.\u001b[39mchunked:\n\u001b[0;32m--> 470\u001b[0m         \u001b[38;5;28;01mreturn\u001b[39;00m \u001b[38;5;28;43mself\u001b[39;49m\u001b[38;5;241;43m.\u001b[39;49m\u001b[43m_readall_chunked\u001b[49m\u001b[43m(\u001b[49m\u001b[43m)\u001b[49m\n\u001b[1;32m    472\u001b[0m     \u001b[38;5;28;01mif\u001b[39;00m \u001b[38;5;28mself\u001b[39m\u001b[38;5;241m.\u001b[39mlength \u001b[38;5;129;01mis\u001b[39;00m \u001b[38;5;28;01mNone\u001b[39;00m:\n\u001b[1;32m    473\u001b[0m         s \u001b[38;5;241m=\u001b[39m \u001b[38;5;28mself\u001b[39m\u001b[38;5;241m.\u001b[39mfp\u001b[38;5;241m.\u001b[39mread()\n",
      "File \u001b[0;32m~/opt/anaconda3/lib/python3.9/http/client.py:577\u001b[0m, in \u001b[0;36mHTTPResponse._readall_chunked\u001b[0;34m(self)\u001b[0m\n\u001b[1;32m    575\u001b[0m \u001b[38;5;28;01mtry\u001b[39;00m:\n\u001b[1;32m    576\u001b[0m     \u001b[38;5;28;01mwhile\u001b[39;00m \u001b[38;5;28;01mTrue\u001b[39;00m:\n\u001b[0;32m--> 577\u001b[0m         chunk_left \u001b[38;5;241m=\u001b[39m \u001b[38;5;28;43mself\u001b[39;49m\u001b[38;5;241;43m.\u001b[39;49m\u001b[43m_get_chunk_left\u001b[49m\u001b[43m(\u001b[49m\u001b[43m)\u001b[49m\n\u001b[1;32m    578\u001b[0m         \u001b[38;5;28;01mif\u001b[39;00m chunk_left \u001b[38;5;129;01mis\u001b[39;00m \u001b[38;5;28;01mNone\u001b[39;00m:\n\u001b[1;32m    579\u001b[0m             \u001b[38;5;28;01mbreak\u001b[39;00m\n",
      "File \u001b[0;32m~/opt/anaconda3/lib/python3.9/http/client.py:560\u001b[0m, in \u001b[0;36mHTTPResponse._get_chunk_left\u001b[0;34m(self)\u001b[0m\n\u001b[1;32m    558\u001b[0m     \u001b[38;5;28mself\u001b[39m\u001b[38;5;241m.\u001b[39m_safe_read(\u001b[38;5;241m2\u001b[39m)  \u001b[38;5;66;03m# toss the CRLF at the end of the chunk\u001b[39;00m\n\u001b[1;32m    559\u001b[0m \u001b[38;5;28;01mtry\u001b[39;00m:\n\u001b[0;32m--> 560\u001b[0m     chunk_left \u001b[38;5;241m=\u001b[39m \u001b[38;5;28;43mself\u001b[39;49m\u001b[38;5;241;43m.\u001b[39;49m\u001b[43m_read_next_chunk_size\u001b[49m\u001b[43m(\u001b[49m\u001b[43m)\u001b[49m\n\u001b[1;32m    561\u001b[0m \u001b[38;5;28;01mexcept\u001b[39;00m \u001b[38;5;167;01mValueError\u001b[39;00m:\n\u001b[1;32m    562\u001b[0m     \u001b[38;5;28;01mraise\u001b[39;00m IncompleteRead(\u001b[38;5;124mb\u001b[39m\u001b[38;5;124m'\u001b[39m\u001b[38;5;124m'\u001b[39m)\n",
      "File \u001b[0;32m~/opt/anaconda3/lib/python3.9/http/client.py:520\u001b[0m, in \u001b[0;36mHTTPResponse._read_next_chunk_size\u001b[0;34m(self)\u001b[0m\n\u001b[1;32m    518\u001b[0m \u001b[38;5;28;01mdef\u001b[39;00m \u001b[38;5;21m_read_next_chunk_size\u001b[39m(\u001b[38;5;28mself\u001b[39m):\n\u001b[1;32m    519\u001b[0m     \u001b[38;5;66;03m# Read the next chunk size from the file\u001b[39;00m\n\u001b[0;32m--> 520\u001b[0m     line \u001b[38;5;241m=\u001b[39m \u001b[38;5;28;43mself\u001b[39;49m\u001b[38;5;241;43m.\u001b[39;49m\u001b[43mfp\u001b[49m\u001b[38;5;241;43m.\u001b[39;49m\u001b[43mreadline\u001b[49m\u001b[43m(\u001b[49m\u001b[43m_MAXLINE\u001b[49m\u001b[43m \u001b[49m\u001b[38;5;241;43m+\u001b[39;49m\u001b[43m \u001b[49m\u001b[38;5;241;43m1\u001b[39;49m\u001b[43m)\u001b[49m\n\u001b[1;32m    521\u001b[0m     \u001b[38;5;28;01mif\u001b[39;00m \u001b[38;5;28mlen\u001b[39m(line) \u001b[38;5;241m>\u001b[39m _MAXLINE:\n\u001b[1;32m    522\u001b[0m         \u001b[38;5;28;01mraise\u001b[39;00m LineTooLong(\u001b[38;5;124m\"\u001b[39m\u001b[38;5;124mchunk size\u001b[39m\u001b[38;5;124m\"\u001b[39m)\n",
      "File \u001b[0;32m~/opt/anaconda3/lib/python3.9/socket.py:704\u001b[0m, in \u001b[0;36mSocketIO.readinto\u001b[0;34m(self, b)\u001b[0m\n\u001b[1;32m    702\u001b[0m \u001b[38;5;28;01mwhile\u001b[39;00m \u001b[38;5;28;01mTrue\u001b[39;00m:\n\u001b[1;32m    703\u001b[0m     \u001b[38;5;28;01mtry\u001b[39;00m:\n\u001b[0;32m--> 704\u001b[0m         \u001b[38;5;28;01mreturn\u001b[39;00m \u001b[38;5;28;43mself\u001b[39;49m\u001b[38;5;241;43m.\u001b[39;49m\u001b[43m_sock\u001b[49m\u001b[38;5;241;43m.\u001b[39;49m\u001b[43mrecv_into\u001b[49m\u001b[43m(\u001b[49m\u001b[43mb\u001b[49m\u001b[43m)\u001b[49m\n\u001b[1;32m    705\u001b[0m     \u001b[38;5;28;01mexcept\u001b[39;00m timeout:\n\u001b[1;32m    706\u001b[0m         \u001b[38;5;28mself\u001b[39m\u001b[38;5;241m.\u001b[39m_timeout_occurred \u001b[38;5;241m=\u001b[39m \u001b[38;5;28;01mTrue\u001b[39;00m\n",
      "\u001b[0;31mKeyboardInterrupt\u001b[0m: "
     ]
    }
   ],
   "source": [
    "import speech_recognition as sr\n",
    "\n",
    "# Create a speech recognition object\n",
    "recognizer = sr.Recognizer()\n",
    "\n",
    "# Start listening for speech\n",
    "with sr.Microphone() as source:\n",
    "  print(\"Say something!\")\n",
    "  audio = recognizer.listen(source)\n",
    "\n",
    "# Try to recognize the speech\n",
    "while True:\n",
    "  try:\n",
    "    # Get the recognized text\n",
    "    text = recognizer.recognize_google(audio)\n",
    "    print(\"You said: \" + text)\n",
    "\n",
    "    if text == \"stop\":\n",
    "      # Stop the speech recognition object from listening\n",
    "      recognizer.stop()\n",
    "\n",
    "      # Exit the loop\n",
    "      break\n",
    "\n",
    "  except sr.UnknownValueError:\n",
    "    print(\"I didn't understand what you said.\")\n",
    "  except sr.RequestError:\n",
    "    print(\"There was an error with the speech recognition service.\")"
   ]
  },
  {
   "cell_type": "code",
   "execution_count": 5,
   "id": "65361372",
   "metadata": {},
   "outputs": [
    {
     "name": "stdout",
     "output_type": "stream",
     "text": [
      "Say something!\n",
      "You said: who is the President of India hung up 20 times is Google Voice quit hang up the music\n",
      "You said: who is the President of India hung up 20 times is Google Voice quit hang up the music\n"
     ]
    }
   ],
   "source": [
    "import speech_recognition as sr\n",
    "\n",
    "# Create a speech recognition object\n",
    "recognizer = sr.Recognizer()\n",
    "\n",
    "# Start listening for speech\n",
    "with sr.Microphone() as source:\n",
    "  print(\"Say something!\")\n",
    "  audio = recognizer.listen(source)\n",
    "\n",
    "# Try to recognize the speech\n",
    "while True:\n",
    "  try:\n",
    "    # Get the recognized text\n",
    "    text = recognizer.recognize_google(audio)\n",
    "    print(\"You said: \" + text)\n",
    "\n",
    "    if text != \"hungup\":\n",
    "      print(\"You said: \" + text)\n",
    "\n",
    "      # Exit the loop\n",
    "      break\n",
    "\n",
    "    if text != \"hungup\":\n",
    "      # Only print the recognized text if the user does not say \"hungup\"\n",
    "      print(\"You said: \" + text)\n",
    "\n",
    "  except sr.UnknownValueError:\n",
    "    print(\"I didn't understand what you said.\")\n",
    "  except sr.RequestError:\n",
    "    print(\"There was an error with the speech recognition service.\")"
   ]
  },
  {
   "cell_type": "code",
   "execution_count": null,
   "id": "832993e3",
   "metadata": {},
   "outputs": [],
   "source": []
  }
 ],
 "metadata": {
  "kernelspec": {
   "display_name": "Python 3 (ipykernel)",
   "language": "python",
   "name": "python3"
  },
  "language_info": {
   "codemirror_mode": {
    "name": "ipython",
    "version": 3
   },
   "file_extension": ".py",
   "mimetype": "text/x-python",
   "name": "python",
   "nbconvert_exporter": "python",
   "pygments_lexer": "ipython3",
   "version": "3.9.12"
  }
 },
 "nbformat": 4,
 "nbformat_minor": 5
}
